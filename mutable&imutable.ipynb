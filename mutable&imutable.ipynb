{
 "cells": [
  {
   "cell_type": "code",
   "execution_count": 1,
   "id": "de005516-bc49-4fc8-8fab-4965c07ab819",
   "metadata": {},
   "outputs": [],
   "source": [
    "s = 'akash'"
   ]
  },
  {
   "cell_type": "code",
   "execution_count": 2,
   "id": "3ad9b6af-a84d-4349-b303-7985857ed370",
   "metadata": {},
   "outputs": [],
   "source": [
    "a = \"shukla\""
   ]
  },
  {
   "cell_type": "code",
   "execution_count": null,
   "id": "480f5d31-c45f-4196-ae40-c3b33ef4cc59",
   "metadata": {},
   "outputs": [],
   "source": []
  },
  {
   "cell_type": "code",
   "execution_count": 3,
   "id": "afa38996-d010-4c18-895b-d65d7c3e6502",
   "metadata": {},
   "outputs": [
    {
     "data": {
      "text/plain": [
       "str"
      ]
     },
     "execution_count": 3,
     "metadata": {},
     "output_type": "execute_result"
    }
   ],
   "source": [
    "type (s)"
   ]
  },
  {
   "cell_type": "code",
   "execution_count": 4,
   "id": "e22efe70-599c-42e7-9d6e-f36239eabe01",
   "metadata": {},
   "outputs": [
    {
     "data": {
      "text/plain": [
       "str"
      ]
     },
     "execution_count": 4,
     "metadata": {},
     "output_type": "execute_result"
    }
   ],
   "source": [
    "type (a)"
   ]
  },
  {
   "cell_type": "code",
   "execution_count": 5,
   "id": "c93e6b24-2c9c-47cd-b3d4-865151d12b02",
   "metadata": {},
   "outputs": [],
   "source": [
    "l = [12,4,5,8,9,7,\"sudh\",10+4j,True,10.25]"
   ]
  },
  {
   "cell_type": "code",
   "execution_count": 6,
   "id": "57abd95d-f808-4edc-ad22-ca10d4422c69",
   "metadata": {},
   "outputs": [
    {
     "data": {
      "text/plain": [
       "list"
      ]
     },
     "execution_count": 6,
     "metadata": {},
     "output_type": "execute_result"
    }
   ],
   "source": [
    "type (l)"
   ]
  },
  {
   "cell_type": "markdown",
   "id": "58507bf2-415c-46a7-a8ca-340a0731c7d1",
   "metadata": {},
   "source": [
    "forward indexing and backward indexing 01234,3210"
   ]
  },
  {
   "cell_type": "code",
   "execution_count": 7,
   "id": "e749476c-068a-4110-b12f-5b174f3d812e",
   "metadata": {},
   "outputs": [
    {
     "data": {
      "text/plain": [
       "4"
      ]
     },
     "execution_count": 7,
     "metadata": {},
     "output_type": "execute_result"
    }
   ],
   "source": [
    "l[1]"
   ]
  },
  {
   "cell_type": "code",
   "execution_count": 8,
   "id": "9c089b0f-a5af-4d03-8bbe-12f8ca2c3da8",
   "metadata": {},
   "outputs": [
    {
     "data": {
      "text/plain": [
       "'sudh'"
      ]
     },
     "execution_count": 8,
     "metadata": {},
     "output_type": "execute_result"
    }
   ],
   "source": [
    "l[6]"
   ]
  },
  {
   "cell_type": "code",
   "execution_count": 9,
   "id": "5f4d9c2a-dadb-4d22-b1a1-998ae382c669",
   "metadata": {},
   "outputs": [
    {
     "data": {
      "text/plain": [
       "7"
      ]
     },
     "execution_count": 9,
     "metadata": {},
     "output_type": "execute_result"
    }
   ],
   "source": [
    "l[-5]"
   ]
  },
  {
   "cell_type": "code",
   "execution_count": 10,
   "id": "b9afb17c-44d1-4c21-85f2-907353659dc7",
   "metadata": {},
   "outputs": [
    {
     "data": {
      "text/plain": [
       "[12, 4, 5, 8, 9, 7, 'sudh', (10+4j), True, 10.25]"
      ]
     },
     "execution_count": 10,
     "metadata": {},
     "output_type": "execute_result"
    }
   ],
   "source": [
    "l"
   ]
  },
  {
   "cell_type": "code",
   "execution_count": 11,
   "id": "e8fee5a5-a02b-4a05-9ab7-fb37ff69b2c6",
   "metadata": {},
   "outputs": [],
   "source": [
    "l[1]=300"
   ]
  },
  {
   "cell_type": "code",
   "execution_count": 12,
   "id": "2822d0f5-e34b-4db7-9835-4ed7925d1289",
   "metadata": {},
   "outputs": [
    {
     "data": {
      "text/plain": [
       "[12, 300, 5, 8, 9, 7, 'sudh', (10+4j), True, 10.25]"
      ]
     },
     "execution_count": 12,
     "metadata": {},
     "output_type": "execute_result"
    }
   ],
   "source": [
    "l"
   ]
  },
  {
   "cell_type": "code",
   "execution_count": 14,
   "id": "77ca6911-3ddf-4dd1-b9bc-089630dbce47",
   "metadata": {},
   "outputs": [],
   "source": [
    "l[6]= \"pwskills\""
   ]
  },
  {
   "cell_type": "code",
   "execution_count": 15,
   "id": "4559c4b6-7afa-4366-9a54-42dff0ccc1e6",
   "metadata": {},
   "outputs": [
    {
     "data": {
      "text/plain": [
       "[12, 300, 5, 8, 9, 7, 'pwskills', (10+4j), True, 10.25]"
      ]
     },
     "execution_count": 15,
     "metadata": {},
     "output_type": "execute_result"
    }
   ],
   "source": [
    "l"
   ]
  },
  {
   "cell_type": "code",
   "execution_count": 16,
   "id": "0510efcf-506f-4f81-a18b-0f3d0e6bd0bd",
   "metadata": {},
   "outputs": [
    {
     "data": {
      "text/plain": [
       "'akash'"
      ]
     },
     "execution_count": 16,
     "metadata": {},
     "output_type": "execute_result"
    }
   ],
   "source": [
    "s\n"
   ]
  },
  {
   "cell_type": "code",
   "execution_count": 17,
   "id": "2a28ccea-a16a-4409-a1a0-e1b4228a679d",
   "metadata": {},
   "outputs": [
    {
     "data": {
      "text/plain": [
       "'k'"
      ]
     },
     "execution_count": 17,
     "metadata": {},
     "output_type": "execute_result"
    }
   ],
   "source": [
    "s[1]"
   ]
  },
  {
   "cell_type": "code",
   "execution_count": 18,
   "id": "16f1f188-934c-47b0-8b1d-b08da34262bb",
   "metadata": {},
   "outputs": [
    {
     "ename": "NameError",
     "evalue": "name 'u' is not defined",
     "output_type": "error",
     "traceback": [
      "\u001b[0;31m---------------------------------------------------------------------------\u001b[0m",
      "\u001b[0;31mNameError\u001b[0m                                 Traceback (most recent call last)",
      "Cell \u001b[0;32mIn[18], line 1\u001b[0m\n\u001b[0;32m----> 1\u001b[0m s[\u001b[38;5;241m1\u001b[39m]\u001b[38;5;241m=\u001b[39m\u001b[43mu\u001b[49m\n",
      "\u001b[0;31mNameError\u001b[0m: name 'u' is not defined"
     ]
    }
   ],
   "source": [
    "s[1]=u"
   ]
  },
  {
   "cell_type": "markdown",
   "id": "8e28a83f-7978-412b-a21f-91e75575bcf3",
   "metadata": {},
   "source": [
    "string = immutable object \n",
    "list = mutable object "
   ]
  }
 ],
 "metadata": {
  "kernelspec": {
   "display_name": "Python 3 (ipykernel)",
   "language": "python",
   "name": "python3"
  },
  "language_info": {
   "codemirror_mode": {
    "name": "ipython",
    "version": 3
   },
   "file_extension": ".py",
   "mimetype": "text/x-python",
   "name": "python",
   "nbconvert_exporter": "python",
   "pygments_lexer": "ipython3",
   "version": "3.10.8"
  }
 },
 "nbformat": 4,
 "nbformat_minor": 5
}
